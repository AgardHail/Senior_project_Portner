{
 "cells": [
  {
   "cell_type": "code",
   "execution_count": 13,
   "id": "a81ec39d-9f53-42db-9246-e3786398f7bf",
   "metadata": {},
   "outputs": [],
   "source": [
    "from datetime import datetime\n",
    "\n",
    "import cartopy.crs as ccrs\n",
    "import cartopy.feature as cfeature\n",
    "import cftime\n",
    "import matplotlib.pyplot as plt\n",
    "import numpy as np\n",
    "import xarray as xr\n",
    "import metpy.calc as mpcalc\n",
    "from metpy.units import units\n",
    "from siphon.catalog import TDSCatalog\n",
    "import pandas as pd"
   ]
  },
  {
   "cell_type": "code",
   "execution_count": 27,
   "id": "d36601d3-c94d-4ee1-98de-823596191b3a",
   "metadata": {},
   "outputs": [
    {
     "name": "stdout",
     "output_type": "stream",
     "text": [
      "/home/jovyan\n"
     ]
    }
   ],
   "source": [
    "!pwd"
   ]
  },
  {
   "cell_type": "code",
   "execution_count": 28,
   "id": "febc65ed-6ca1-45c9-9b2c-c9cdfdf68669",
   "metadata": {},
   "outputs": [
    {
     "data": {
      "text/plain": [
       "'/home/jovyan/key_west_sep_data.csv'"
      ]
     },
     "execution_count": 28,
     "metadata": {},
     "output_type": "execute_result"
    }
   ],
   "source": [
    "path = '/home/jovyan/'\n",
    "file = 'key_west_sep_data.csv'\n",
    "path+file"
   ]
  },
  {
   "cell_type": "code",
   "execution_count": 31,
   "id": "95e4cd56-7237-4f98-944b-036ea46cffaa",
   "metadata": {},
   "outputs": [
    {
     "name": "stderr",
     "output_type": "stream",
     "text": [
      "/tmp/ipykernel_343/642385737.py:1: DtypeWarning: Columns (38) have mixed types. Specify dtype option on import or set low_memory=False.\n",
      "  ds_observational_EYW = pd.read_csv(path+file)\n"
     ]
    }
   ],
   "source": [
    "ds_observational_EYW = pd.read_csv(path+file)"
   ]
  },
  {
   "cell_type": "code",
   "execution_count": 32,
   "id": "8c743a6e-f42e-4a5d-b569-a3e283e62092",
   "metadata": {},
   "outputs": [],
   "source": [
    "ds_observational_EYW_wnd = ds_observational_EYW.WND"
   ]
  },
  {
   "cell_type": "code",
   "execution_count": 33,
   "id": "23ef4f08-3a64-45ef-9e23-0a61e4a4c4d0",
   "metadata": {},
   "outputs": [
    {
     "data": {
      "text/plain": [
       "0        120,1,N,0062,1\n",
       "1        120,5,N,0077,5\n",
       "2        120,5,N,0062,5\n",
       "3        120,5,N,0067,5\n",
       "4        120,1,N,0067,1\n",
       "              ...      \n",
       "13660    110,5,N,0021,5\n",
       "13661    100,5,N,0031,5\n",
       "13662    120,5,N,0031,5\n",
       "13663    070,5,N,0026,5\n",
       "13664    080,5,N,0026,5\n",
       "Name: WND, Length: 13665, dtype: object"
      ]
     },
     "execution_count": 33,
     "metadata": {},
     "output_type": "execute_result"
    }
   ],
   "source": [
    "ds_observational_EYW_wnd"
   ]
  },
  {
   "cell_type": "code",
   "execution_count": null,
   "id": "c50dfd32-f8ab-497a-a786-1fa152e24aa7",
   "metadata": {},
   "outputs": [],
   "source": []
  }
 ],
 "metadata": {
  "kernelspec": {
   "display_name": "Python [conda env:fit25s-era5]",
   "language": "python",
   "name": "conda-env-fit25s-era5-py"
  },
  "language_info": {
   "codemirror_mode": {
    "name": "ipython",
    "version": 3
   },
   "file_extension": ".py",
   "mimetype": "text/x-python",
   "name": "python",
   "nbconvert_exporter": "python",
   "pygments_lexer": "ipython3",
   "version": "3.12.8"
  }
 },
 "nbformat": 4,
 "nbformat_minor": 5
}
